{
 "cells": [
  {
   "cell_type": "markdown",
   "metadata": {},
   "source": [
    "__Creating Different Movie Barcodes__"
   ]
  },
  {
   "cell_type": "markdown",
   "metadata": {},
   "source": [
    "In the last report, we went through the basic steps of creating a movie barcode in detail. One of those steps was creating a User Defined Function(UDF) that extracted a \"Representative Colour\" from each frame. The UDF we had used in the previous report was a function that extracted the value of the pixel located in the very middle of each frame. However, it is possible to create different kinds of movie barcodes with a single video by changing which colour you choose as your representative color. In this report we will learn how to create 5 different kinds of movie barcodes including the barcode created in the previous report."
   ]
  },
  {
   "cell_type": "markdown",
   "metadata": {},
   "source": [
    "__0. Review__"
   ]
  },
  {
   "cell_type": "code",
   "execution_count": 4,
   "metadata": {},
   "outputs": [],
   "source": [
    "import numpy as np\n",
    "import cv2\n",
    "import matplotlib.pyplot as plt\n",
    "import imageio\n",
    "\n",
    "import random"
   ]
  },
  {
   "cell_type": "markdown",
   "metadata": {},
   "source": [
    "The tools we had imported last time will all be needed again. In addition, we will also need to import the \"random\" tool to make certain barcodes."
   ]
  },
  {
   "cell_type": "code",
   "execution_count": null,
   "metadata": {},
   "outputs": [],
   "source": [
    "filename='C:\\\\Users\\\\Luke\\\\Desktop\\\\Frozen 2 Teaser.mp4'\n",
    "cap = cv2.VideoCapture(filename) \n",
    "\n",
    "CList = []"
   ]
  },
  {
   "cell_type": "markdown",
   "metadata": {},
   "source": [
    "The code above opens the selected videofile in Python, and the CList is created to provide a list to add all of the representative colors."
   ]
  },
  {
   "cell_type": "code",
   "execution_count": null,
   "metadata": {},
   "outputs": [],
   "source": [
    "while(True):\n",
    "    ret, frame = cap.read()\n",
    "\n",
    "    if ret == False:\n",
    "        break \n",
    "\n",
    "    c = getRepColor(frame)\n",
    "    CList.append(c)"
   ]
  },
  {
   "cell_type": "markdown",
   "metadata": {},
   "source": [
    "This is the loop that reads each frame of the previously selected video and adds each extracted representative color to the CList. The UDF getRepColor(frame) will be created later on in the report."
   ]
  },
  {
   "cell_type": "code",
   "execution_count": null,
   "metadata": {},
   "outputs": [],
   "source": [
    "img = np.zeros((1000,len(CList),3)) \n",
    "\n",
    "for i in range(len(CList)):\n",
    "    img[:,i] = CList[i]"
   ]
  },
  {
   "cell_type": "markdown",
   "metadata": {},
   "source": [
    "This code creates the barcode by stretching out each representative color in order."
   ]
  },
  {
   "cell_type": "code",
   "execution_count": null,
   "metadata": {},
   "outputs": [],
   "source": [
    "#b, g, r = cv2.split(img)\n",
    "#img2 = cv2.merge([r,g,b])\n",
    "\n",
    "img2 = img.astype(np.uint8)\n",
    "#plt.imshow(img2)\n",
    "#plt.show()\n",
    "imageio.imwrite('MovieBarcode(Center)-Frozen2Teaser.png', img2)\n",
    "\n",
    "cv2.destroyAllWindows()"
   ]
  },
  {
   "cell_type": "markdown",
   "metadata": {},
   "source": [
    "This time we won't be showing the barcode using plt and will directly save the barcode as an imagefile. Therefore we won't have to change the order of the r,g,b values. Save the barcode with whichever name you prefer.\n",
    "\n",
    "Now let's create the UDFs."
   ]
  },
  {
   "cell_type": "markdown",
   "metadata": {},
   "source": [
    "__1. Extracting the Center Pixel__"
   ]
  },
  {
   "cell_type": "code",
   "execution_count": 1,
   "metadata": {},
   "outputs": [],
   "source": [
    "def getRepColor(img):\n",
    "    rcenter = img.shape[0]//2\n",
    "    ccenter = img.shape[1]//2\n",
    "    color = img[rcenter, ccenter]\n",
    "    return color"
   ]
  },
  {
   "cell_type": "markdown",
   "metadata": {},
   "source": [
    "As mentioned in the previous report, img.shape returns the height, width, and depth of an image. Therefore, img.shape[0] is the height, img.shape[1] is the width, and img.shape[2] is the depth. 'rcenter' and 'ccenter' each represent the middle value of the hight and width, so 'color' is the color of the pixel in the center of the frame."
   ]
  },
  {
   "cell_type": "markdown",
   "metadata": {},
   "source": [
    "![image](MovieBarcode-Frozen2Teaser(Center).png)"
   ]
  },
  {
   "cell_type": "markdown",
   "metadata": {},
   "source": [
    "This is the movie barcode of the 2 minute teaser trailer of the movie Frozen 2.\n"
   ]
  },
  {
   "cell_type": "markdown",
   "metadata": {},
   "source": [
    "__2. Extracting a Random Pixel__"
   ]
  },
  {
   "cell_type": "code",
   "execution_count": 2,
   "metadata": {},
   "outputs": [],
   "source": [
    "def getRepColor(img):\n",
    "    rrandom = random.randint(1,img.shape[0])\n",
    "    crandom = random.randint(1,img.shape[1])\n",
    "    color = img[rrandom, crandom]\n",
    "    return color"
   ]
  },
  {
   "cell_type": "markdown",
   "metadata": {},
   "source": [
    "This is where we need to use the random tool we had imported earlier. 'random.randint(range)' chooses any random integer within the selected range. Therefore rrandom and crandom each represent random integers between 1 to the length of the height, and 1 to the length of the width. Therefore, color returns the r,g,b values of any random pixel within the frame."
   ]
  },
  {
   "cell_type": "markdown",
   "metadata": {},
   "source": [
    "![image](MovieBarcode-Frozen2Teaser(Ran).png)"
   ]
  },
  {
   "cell_type": "markdown",
   "metadata": {},
   "source": [
    "__3. Finding the Average of a Number of Random Pixels__"
   ]
  },
  {
   "cell_type": "code",
   "execution_count": 3,
   "metadata": {},
   "outputs": [],
   "source": [
    "#1\n",
    "def getRepColor(img):\n",
    "    RList=[]\n",
    "    rsum=0; gsum=0; bsum=0\n",
    "    #2\n",
    "    for i in range(100):\n",
    "        rran = random.randint(1,img.shape[0]-1)\n",
    "        cran = random.randint(1,img.shape[1]-1)\n",
    "        RanPixel=img[rran,cran]\n",
    "        RList.append(RanPixel)\n",
    "    #3    \n",
    "    for i in RList:\n",
    "        rsum += i[0]\n",
    "        gsum += i[1]\n",
    "        bsum += i[2]\n",
    "    #4    \n",
    "    rmean = rsum//100\n",
    "    gmean = gsum//100\n",
    "    bmean = bsum//100\n",
    "    color = [rmean, gmean, bmean]     \n",
    "    return color"
   ]
  },
  {
   "cell_type": "markdown",
   "metadata": {},
   "source": [
    "First of all, create an RList that will add all of the selected pixels. Then, give the value 0 to rsum, gsum, and bsum. Each of these sums will be used to add the total sum of the red, green, and blue values in the RList."
   ]
  },
  {
   "cell_type": "markdown",
   "metadata": {},
   "source": [
    "The first loop decides how many pixels will be randomly chosen from each frame. Due to the slow processing speed of my computer, I have only extracted 100 pixels per frame, but in order to get a reliable result it is recommended to extract at least 10 percent of all pixels in each frame. The method used to choose the random pixels are the same as what we used previously."
   ]
  },
  {
   "cell_type": "markdown",
   "metadata": {},
   "source": [
    "'i[0]', 'i[1]', and 'i[2]' each represent the red, green, and blue values of each representative color. Therefore this loop adds all of the red, green, and blue values into the sum."
   ]
  },
  {
   "cell_type": "markdown",
   "metadata": {},
   "source": [
    "Divide the sum with the amount of pixels you had extracted, and you would get the average value of each color. Give this value to 'color' and return color."
   ]
  },
  {
   "cell_type": "markdown",
   "metadata": {},
   "source": [
    "![image](MovieBarcode-Frozen2Teaser(RanAvg).png)"
   ]
  },
  {
   "cell_type": "markdown",
   "metadata": {},
   "source": [
    "Note that the color sequence of this barcode is similar to the random barcode, but the drastic color change is smoothened out."
   ]
  },
  {
   "cell_type": "markdown",
   "metadata": {},
   "source": [
    "__4. Returning the Average of Every Pixel__"
   ]
  },
  {
   "cell_type": "code",
   "execution_count": 1,
   "metadata": {},
   "outputs": [],
   "source": [
    "def getRepColor(img):\n",
    "    #1\n",
    "    RList=[]\n",
    "    rsum=0; gsum=0; bsum=0\n",
    "    a=0; b=0\n",
    "    Total_Pixels=img.shape[0]*img.shape[1] \n",
    "    #2\n",
    "    for a in range(img.shape[0]):\n",
    "        for b in range(img.shape[1]):\n",
    "            Pixel = img[a,b]\n",
    "            RList.append(Pixel)          \n",
    "    #3\n",
    "    for i in RList:\n",
    "        rsum += i[0]\n",
    "        gsum += i[1]\n",
    "        bsum += i[2]\n",
    "    rmean = rsum//Total_Pixels\n",
    "    gmean = gsum//Total_Pixels\n",
    "    bmean = bsum//Total_Pixels\n",
    "    color = [rmean, gmean, bmean] \n",
    "    return color"
   ]
  },
  {
   "cell_type": "markdown",
   "metadata": {},
   "source": [
    "Step1 is the same step as the first step we went through when finding the random average."
   ]
  },
  {
   "cell_type": "markdown",
   "metadata": {},
   "source": [
    "Step2 allows you to add every single pixel within each frame into the RList by using a nested in for loop."
   ]
  },
  {
   "cell_type": "markdown",
   "metadata": {},
   "source": [
    "Step3 is the same as the fourth step of finding the random average. However, this time we divide the sum with 'Total_Pixels', which is the total amount of pixels in a frame since we are adding the value of every frame."
   ]
  },
  {
   "cell_type": "markdown",
   "metadata": {},
   "source": [
    "![image](MovieBarcode-Wild Flower(TotalAvg2).png)"
   ]
  },
  {
   "cell_type": "markdown",
   "metadata": {},
   "source": [
    "From now on we will be using the 21 second teaser video of the music video 'Wild Flower' to reduce the amount of data being processed.\n",
    "\n",
    "__5. Extracting the Most Frequently Used Pixel__"
   ]
  },
  {
   "cell_type": "code",
   "execution_count": 2,
   "metadata": {},
   "outputs": [],
   "source": [
    "def getRepColor(img):\n",
    "    #1\n",
    "    Neo=np.zeros((256,256,256))\n",
    "    #2\n",
    "    for a in range(img.shape[0]):\n",
    "        for b in range(img.shape[1]):\n",
    "            Pixel = img[a,b]\n",
    "            h[Pixel[0],Pixel[1],Pixel[2]] += 1\n",
    "    #3\n",
    "    RP = np.unravel_index(np.argmax(h),  (256, 256, 256))\n",
    "    RP = np.asarray(RP, dtype='unit8')\n",
    "    return RP"
   ]
  },
  {
   "cell_type": "markdown",
   "metadata": {},
   "source": [
    "In order to extract the most frequently used pixel we will create a three dimentional matrix using np.zero and count how frequently each color appears by adding 1 each time each color appears. #1 is the code that creates the three dimentional matrix of zeros."
   ]
  },
  {
   "cell_type": "markdown",
   "metadata": {},
   "source": [
    "Step2 is the same as the code we wrote to add every pixel in a frame to a list. This time, we will be reading the color values of each pixel and add 1 to the corresponding point in the matrix."
   ]
  },
  {
   "cell_type": "markdown",
   "metadata": {},
   "source": [
    "In #3, np.argmax(h) is the code that returns the index of the maximum value within a matrix. np.unravel_index changes the argmax value which is presented as a flat type data into tuple form. In order to change the tuple form data into an numpy array, we have to change the value type with np.asarray."
   ]
  },
  {
   "cell_type": "markdown",
   "metadata": {},
   "source": [
    "![image](MovieBarcode-WildFlower(Freq).png)"
   ]
  },
  {
   "cell_type": "markdown",
   "metadata": {},
   "source": [
    "__Conclusion__"
   ]
  },
  {
   "cell_type": "markdown",
   "metadata": {},
   "source": [
    "In this report we have learned how to create various movie barcodes by using different ways to choose representative colors. What was surprising was that all we had to do to create different barcodes was change the UDF and nothing else. However, although various ways of creating barcodes offer us a wider range of choice, some of the codes are too complex and require way too much data processing to be executed in an average computer."
   ]
  }
 ],
 "metadata": {
  "kernelspec": {
   "display_name": "Python 3",
   "language": "python",
   "name": "python3"
  },
  "language_info": {
   "codemirror_mode": {
    "name": "ipython",
    "version": 3
   },
   "file_extension": ".py",
   "mimetype": "text/x-python",
   "name": "python",
   "nbconvert_exporter": "python",
   "pygments_lexer": "ipython3",
   "version": "3.6.8"
  }
 },
 "nbformat": 4,
 "nbformat_minor": 2
}
