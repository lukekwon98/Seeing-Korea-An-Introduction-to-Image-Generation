{
 "cells": [
  {
   "cell_type": "markdown",
   "metadata": {},
   "source": [
    "# __Creating \"Snake\" in Python with Turtle__"
   ]
  },
  {
   "cell_type": "markdown",
   "metadata": {},
   "source": [
    "The most common way of making games in Python is using the pygame module. However, there are other often simpler ways to do so. This chapter will be about how to create the classic game \"Snake\" using the turtle module."
   ]
  },
  {
   "cell_type": "markdown",
   "metadata": {},
   "source": [
    "## __1. Creating the Background__"
   ]
  },
  {
   "cell_type": "code",
   "execution_count": null,
   "metadata": {},
   "outputs": [],
   "source": [
    "import turtle\n",
    "\n",
    "# Set up the screen\n",
    "mn = turtle.Screen() #미리내\n",
    "mn.title(\"미르의 모험\")\n",
    "mn.bgcolor(\"grey\")\n",
    "mn.bgpic(\"C:/Users/Luke/Desktop/Turtle_Snake/11.gif\") #Only gif files can be used\n",
    "mn.setup(width=600, height=600)\n",
    "mn.tracer(0) #turns off animation on screen(), screen updates\n",
    "\n",
    "mn.mainloop()"
   ]
  },
  {
   "cell_type": "markdown",
   "metadata": {},
   "source": [
    "Import the turtle module. Next, using the turtle module create a screen, and enter the screen title. After that set background color or enter a background picture. We have used a picture of the milky way since our snake is actually a dragon. Note that only gif files can be used as backgrounds in turtle. The size of the background is 600 x 600 pixels."
   ]
  },
  {
   "cell_type": "markdown",
   "metadata": {},
   "source": [
    "## __2. Creating the Snake__\n",
    "### 1) Making the Snake's Head"
   ]
  },
  {
   "cell_type": "code",
   "execution_count": null,
   "metadata": {},
   "outputs": [],
   "source": [
    "# Snake head\n",
    "head = turtle.Turtle()\n",
    "head.speed(0) # not actual speed, speed of turtle module, fastest animation speed\n",
    "head.shape(\"square\") #triange\n",
    "head.color(\"white\")\n",
    "head.penup() # doesn't draw lines\n",
    "head.goto(0,0) # head starts in center of screen\n",
    "head.direction = \"stop\" #doesn't move when started\n",
    "\n",
    "while True:\n",
    "    mn.update()\n",
    "\n",
    "mn.mainloop()"
   ]
  },
  {
   "cell_type": "markdown",
   "metadata": {},
   "source": [
    "Now we will create the snake's head. Create the head using turtle.Turtle(). Then, set the speed of the head to 0. This does not mean the actual velocity of the turtle is 0, it is only a function indicating the fastest animation speed. Set the head shape and color to your preference, and set penup so that that snake head doesn't leave any traces. Locate the snake head at the middle of the screen(0,0) and make sure it is stopped. Loop the mn.update() function to contionuously update the turtle game.\n",
    "\n",
    "### 2) Moving the Snake"
   ]
  },
  {
   "cell_type": "code",
   "execution_count": null,
   "metadata": {},
   "outputs": [],
   "source": [
    "def move():\n",
    "    if head.direction == \"up\":\n",
    "        y = head.ycor()\n",
    "        head.sety(y + 20)\n",
    "\n",
    "    if head.direction == \"down\":\n",
    "        y = head.ycor()\n",
    "        head.sety(y - 20)\n",
    "\n",
    "    if head.direction == \"left\":\n",
    "        x = head.xcor()\n",
    "        head.setx(x - 20)\n",
    "        \n",
    "    if head.direction == \"right\":\n",
    "        x = head.xcor()\n",
    "        head.setx(x + 20)\n",
    "\n",
    "import time\n",
    "\n",
    "delay = 0.1\n",
    "\n",
    "while True:\n",
    "    mn.update()\n",
    "    \n",
    "    move()\n",
    "\n",
    "    time.sleep(delay)"
   ]
  },
  {
   "cell_type": "markdown",
   "metadata": {},
   "source": [
    "This if the function that will allow us to move the snake. Depending on the value of the head.direction, the head will move 20 pixels to whichever direction in 20 pixels per second. The default size of the turtle is usually 20 pixels. We won't be able to see the turtle move because right now it moves too fast. Therefore we need to import the time module and delay the program time by 0.1."
   ]
  },
  {
   "cell_type": "code",
   "execution_count": null,
   "metadata": {},
   "outputs": [],
   "source": [
    "def go_up():\n",
    "    if head.direction != \"down\":\n",
    "        head.direction = \"up\"\n",
    "\n",
    "def go_down():\n",
    "    if head.direction != \"up\":\n",
    "        head.direction = \"down\"\n",
    "\n",
    "def go_left():\n",
    "    if head.direction != \"right\":\n",
    "        head.direction = \"left\"\n",
    "\n",
    "def go_right():\n",
    "    if head.direction != \"left\":\n",
    "        head.direction = \"right\"\n",
    "\n",
    "# Keyboard bindings\n",
    "mn.listen()\n",
    "mn.onkeypress(go_up, \"w\")\n",
    "mn.onkeypress(go_down, \"s\")\n",
    "mn.onkeypress(go_left, \"a\")\n",
    "mn.onkeypress(go_right, \"d\")"
   ]
  },
  {
   "cell_type": "markdown",
   "metadata": {},
   "source": [
    "Make 4 new functions that change the head.direction to up, down, left, and right. In the snake game, the game is over when the snake's head touches its own body. Therefore you have to make sure the head cannot move to the opposite direction it is moving in. In order to bind the commands with your keyboard, use the turtle.listen function and associate each of the directional functionsn with onkeypress."
   ]
  },
  {
   "cell_type": "markdown",
   "metadata": {},
   "source": [
    "### 3) Creating Snake Food"
   ]
  },
  {
   "cell_type": "code",
   "execution_count": null,
   "metadata": {},
   "outputs": [],
   "source": [
    "# Snake food\n",
    "food = turtle.Turtle()\n",
    "food.speed(0) # not actual speed, speed of turtle module, fastest animation speed\n",
    "food.shape(\"circle\") #triange\n",
    "food.color(body_colours[body_count%5])\n",
    "food.penup() # doesn't draw lines\n",
    "food.goto(0,100) # head starts in center of screen"
   ]
  },
  {
   "cell_type": "markdown",
   "metadata": {},
   "source": [
    "Creating the snake food is very similar to creating the snake head. Except delete the head.direction function since the food does not move."
   ]
  },
  {
   "cell_type": "markdown",
   "metadata": {},
   "source": [
    "### 4) Making the Food Change Location after Colliding with Snake Head"
   ]
  },
  {
   "cell_type": "code",
   "execution_count": null,
   "metadata": {},
   "outputs": [],
   "source": [
    "import random\n",
    "\n",
    "while True:\n",
    "    wn.update()\n",
    "    \n",
    "    if head.distance(food) < 20: #measures distance between two turtles, basic turtle pixel = 20\n",
    "        # Move the food to a random spot\n",
    "        #winsound.PlaySound(\"power.wav\", winsound.SND_ASYNC)\n",
    "        playsound(\"power.wav\")\n",
    "        x = random.randint(-270, 270)\n",
    "        y = random.randint(-270, 270)\n",
    "        food.goto(x,y)\n",
    "    \n",
    "    move(0)\n",
    "    \n",
    "    time.sleep(delay)"
   ]
  },
  {
   "cell_type": "markdown",
   "metadata": {},
   "source": [
    "Once the snake head collides with food, we need to give the impression that the snake has eaten the food. Therefore by using the goto function we can make the food disappear to another location whenever the distance between the head and food is below 20."
   ]
  },
  {
   "cell_type": "markdown",
   "metadata": {},
   "source": [
    "## 5) Making the Body"
   ]
  },
  {
   "cell_type": "code",
   "execution_count": null,
   "metadata": {},
   "outputs": [],
   "source": [
    "segments = []\n",
    "body_colours = [\"yellow\", \"blue\", \"red\", \"black\", \"white\"]\n",
    "body_count = 0\n",
    "\n",
    "# Add a segment\n",
    "new_segment = turtle.Turtle()\n",
    "new_segment.speed(0)\n",
    "new_segment.shape(\"square\")\n",
    "bc = body_count%5\n",
    "new_segment.color(body_colours[bc])\n",
    "new_segment.penup()\n",
    "segments.append(new_segment)"
   ]
  },
  {
   "cell_type": "markdown",
   "metadata": {},
   "source": [
    "This code adds a segment to the segments list each time the snake eats its food. The color of the snake will be consisted of the Obang colors, and each color will be added with in order."
   ]
  },
  {
   "cell_type": "code",
   "execution_count": null,
   "metadata": {},
   "outputs": [],
   "source": [
    "for index in range(len(segments)-1, 0, -1):\n",
    "        x = segments[index-1].xcor()\n",
    "        y = segments[index-1].ycor()\n",
    "        segments[index].goto(x,y)\n",
    "\n",
    "if len(segments) > 0:\n",
    "        x = head.xcor()\n",
    "        y = head.ycor()\n",
    "        segments[0].goto(x,y)\n",
    "        \n",
    "move()"
   ]
  },
  {
   "cell_type": "markdown",
   "metadata": {},
   "source": [
    "This code makes each of the segments move to where its preceeding segment was earlier. For example 9 is moved to where 8 is, 8 is moved to where 7 is, so on and so forth. After that We need to make sure that the first segment which was not included in the first loop moves to the where the head was to start the loop. "
   ]
  },
  {
   "cell_type": "markdown",
   "metadata": {},
   "source": [
    "## __3. Checking for Collisions with Borders and the Snake's Body__\n",
    "### 1) Collisions with Borders"
   ]
  },
  {
   "cell_type": "code",
   "execution_count": null,
   "metadata": {},
   "outputs": [],
   "source": [
    "if head.xcor() > 290 or head.xcor()<-290 or head.ycor()>290 or head.ycor()<-290:\n",
    "        playsound(\"Gameover.wav\")\n",
    "        time.sleep(1) # pause\n",
    "        head.goto(0,0)\n",
    "        head.direction = \"stop\"\n",
    "\n",
    "        # Hide the segments\n",
    "        for segment in segments:\n",
    "            segment.goto(1000, 1000) # sends all segments to 1000,1000, could not find a way to delete\n",
    "\n",
    "        # Clear the segments list\n",
    "        segments.clear()"
   ]
  },
  {
   "cell_type": "markdown",
   "metadata": {},
   "source": [
    "In the traditional Snake game, the game ends whenever the snake collides with a border or when it collides with itself. The first code stops the game whenever the snake reaches a border. It then hides all of the segments to outside of the screen (there is no way to completely delete the segments in pythoh) and clears the segments list.\n",
    "\n",
    "### 2) Collisions with Body Segments"
   ]
  },
  {
   "cell_type": "code",
   "execution_count": null,
   "metadata": {},
   "outputs": [],
   "source": [
    "# Check for head collision with the body segments\n",
    "for segment in segments:\n",
    "    if segment.distance(head) <20:\n",
    "        playsound(\"Gameover.wav\")\n",
    "        time.sleep(1)\n",
    "        head.goto(0,0)\n",
    "        head.direction = \"stop\"\n",
    "\n",
    "        # Hide the segments\n",
    "        for segment in segments:\n",
    "            segment.goto(1000, 1000) # sends all segments to 1000,1000, could not find a way to delete\n",
    "        # Reset the delay\n",
    "        delay = 0.1\n",
    "            \n",
    "        # Clear the segments list\n",
    "        segments.clear()\n",
    "\n",
    "    time.sleep(delay) #stops program from 1/10th of a second"
   ]
  },
  {
   "cell_type": "markdown",
   "metadata": {},
   "source": [
    "Use the for loop to check whether each segment has collided with the head. If so, reset the game as we did with the border collisions. Each time the snake's body is lengthened, the game slows down just a bit. Therefore for each added segment we will also decrease the delay."
   ]
  },
  {
   "cell_type": "markdown",
   "metadata": {},
   "source": [
    "## __4. Creating the Scoreboard__"
   ]
  },
  {
   "cell_type": "code",
   "execution_count": null,
   "metadata": {},
   "outputs": [],
   "source": [
    "pen = turtle.Turtle()\n",
    "pen.speed(0)\n",
    "pen.shape(\"square\")\n",
    "pen.color(\"white\")\n",
    "pen.penup()\n",
    "pen.hideturtle()\n",
    "pen.goto(0,260)\n",
    "pen.write(\"Score: 0  High score: 0\", align=\"center\", font=(\"Courier\", 24, \"normal\"))"
   ]
  },
  {
   "cell_type": "markdown",
   "metadata": {},
   "source": [
    "Create the scoreboard using turtle.write. The scoreboard will start off as 0, but will be updated every time the snake eats food."
   ]
  },
  {
   "cell_type": "code",
   "execution_count": null,
   "metadata": {},
   "outputs": [],
   "source": [
    "# Score\n",
    "score = 0\n",
    "high_score = 0\n",
    "\n",
    "# Increase the score\n",
    "score += 10\n",
    "body_count += 1\n",
    "food.color(body_colours[body_count%5])\n",
    "\n",
    "if score > high_score:\n",
    "    high_score = score\n",
    "\n",
    "pen.clear()\n",
    "pen.write(\"Score: {}  High Score: {}\".format(score, high_score), align= \"Center\", font=(\"Courier\", 24, \"normal\"))"
   ]
  },
  {
   "cell_type": "markdown",
   "metadata": {},
   "source": [
    "Update the score each time the snake eats food, but only update the high_score if the score is higher. Clear the first score and replace it with the new one. Clear the score when the game is reset. You may add sounds and images using winsound or playsound."
   ]
  },
  {
   "cell_type": "markdown",
   "metadata": {},
   "source": [
    "## __5. Adding Sound Effects & Background Music__"
   ]
  },
  {
   "cell_type": "code",
   "execution_count": null,
   "metadata": {},
   "outputs": [],
   "source": [
    "import winsound\n",
    "import playsound as playsound\n",
    "\n",
    "playsound(\"Gameover.wav\")\n",
    "playsound(\"power.wav\")\n",
    "winsound.PlaySound(\"Peace1.wav\", winsound.SND_ASYNC)"
   ]
  },
  {
   "cell_type": "markdown",
   "metadata": {},
   "source": [
    "Thus we have completed the tutorial on how to make the classic \"Snake\" game using Turtle. Alth0ugh this is a simple game to play and make, it is a good way of practicing basic functions and loops through the turtle module. As simple as it is, the implementations of this game are virtually infinite, so let your imagination flow and create whatever variation of snake you desire."
   ]
  }
 ],
 "metadata": {
  "kernelspec": {
   "display_name": "Python 3",
   "language": "python",
   "name": "python3"
  },
  "language_info": {
   "codemirror_mode": {
    "name": "ipython",
    "version": 3
   },
   "file_extension": ".py",
   "mimetype": "text/x-python",
   "name": "python",
   "nbconvert_exporter": "python",
   "pygments_lexer": "ipython3",
   "version": "3.6.8"
  }
 },
 "nbformat": 4,
 "nbformat_minor": 2
}
