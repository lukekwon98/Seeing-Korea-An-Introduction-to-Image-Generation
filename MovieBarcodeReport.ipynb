{
 "cells": [
  {
   "cell_type": "markdown",
   "metadata": {},
   "source": [
    "__Creating a Movie Barcode__"
   ]
  },
  {
   "cell_type": "markdown",
   "metadata": {},
   "source": [
    "This report illustrates the basic steps of creating a Movie Barcode using Python. Through this process you will be able to experience downloading and importing tools, opening video files through Python, choosing and extracting representative colours from each frame of a video, and combining each colour to form a barcode."
   ]
  },
  {
   "cell_type": "markdown",
   "metadata": {},
   "source": [
    "__1. Importing Tools__\n",
    "\n",
    "The first step of creating a Movie Barcode is installing and importing tools that will be used later on. In order to install the tools open the command prompt(CMD) and type \"pip install _____\". add the name of each tool in the blank. The tools needed are \"numpy\", \"cv2\", \"matplotlib\", and \"imageio\". After downloading, open a python script and type the following accordingly to import the installed tools."
   ]
  },
  {
   "cell_type": "code",
   "execution_count": 1,
   "metadata": {},
   "outputs": [],
   "source": [
    "import numpy as np\n",
    "import cv2\n",
    "import matplotlib.pyplot as plt\n",
    "import imageio"
   ]
  },
  {
   "cell_type": "markdown",
   "metadata": {},
   "source": [
    "Numpy and matplotlib.pyplot have each been imported as np and py so that we can use each tool by typing np and py instead of numpy and mathplotlib.pyplot each time."
   ]
  },
  {
   "cell_type": "markdown",
   "metadata": {},
   "source": [
    "__2. Opening Video Files in Python__\n",
    "\n",
    "Now we have imported the tools needed to open video files in Python. In order to do this, first choose any video file in your computer and add its directory and name to the variable \"filename\". After that, type cv2.VideoCapture(filename) to open the file, and add it to the variable \"cap\", for later use."
   ]
  },
  {
   "cell_type": "code",
   "execution_count": 2,
   "metadata": {},
   "outputs": [],
   "source": [
    "filename = 'C:\\\\Users\\\\Luke\\\\Desktop\\\\Mary Poppins Returns.mp4'\n",
    "cap = cv2.VideoCapture(filename)"
   ]
  },
  {
   "cell_type": "markdown",
   "metadata": {},
   "source": [
    "\n",
    "__3. Extracting Representative Colors From Each Frame__"
   ]
  },
  {
   "cell_type": "markdown",
   "metadata": {},
   "source": [
    "First of all, create an empty list that will store the representative colors."
   ]
  },
  {
   "cell_type": "code",
   "execution_count": 3,
   "metadata": {},
   "outputs": [],
   "source": [
    "CList = []"
   ]
  },
  {
   "cell_type": "markdown",
   "metadata": {},
   "source": [
    "Next we have to write a function that decides which pixel within a frame is chosen as a representative color. There are various ways of deciding a frame's representative color. The following function chooses the color of the pixel in the middle of the frame."
   ]
  },
  {
   "cell_type": "code",
   "execution_count": 5,
   "metadata": {},
   "outputs": [],
   "source": [
    "def getRepColor(img):\n",
    "    rcenter = img.shape[0]//2\n",
    "    ccenter = img.shape[1]//2\n",
    "    color = img[rcenter, ccenter]\n",
    "    return color"
   ]
  },
  {
   "cell_type": "markdown",
   "metadata": {},
   "source": [
    "img.shape returns the height, width, and depth of the given image in list form. Therefore, img.shape[0] and img.shape[1] each represent the height and width of each image. In order to extract the center pixel's color, we can return img[rcenter,ccenter]. Be sure to use two slashes when dividing the height and width in order to get an integer as a result."
   ]
  },
  {
   "cell_type": "markdown",
   "metadata": {},
   "source": [
    "Now it is time to extract the representative color of each frame and add it to the Clist. "
   ]
  },
  {
   "cell_type": "code",
   "execution_count": 6,
   "metadata": {},
   "outputs": [],
   "source": [
    "while(True):\n",
    "    ret, frame = cap.read()\n",
    "\n",
    "    if ret == False:\n",
    "        break \n",
    "\n",
    "    c = getRepColor(frame)\n",
    "    CList.append(c)\n",
    "\n",
    "cap.release()"
   ]
  },
  {
   "cell_type": "markdown",
   "metadata": {},
   "source": [
    "By using the while loop, we are able to read each frame until the value of ret becomes false, or when there are no more frames left. If we use the getRepColor() function for each frame we are able to add the value of the representative color of each frame to the variable 'c', and add the value of c to the CList each time."
   ]
  },
  {
   "cell_type": "code",
   "execution_count": 7,
   "metadata": {},
   "outputs": [],
   "source": [
    "img = np.zeros((1000,len(CList),3)) \n",
    "\n",
    "for i in range(len(CList)):\n",
    "    img[:,i] = CList[i]"
   ]
  },
  {
   "cell_type": "markdown",
   "metadata": {},
   "source": [
    "Now that we have extracted all of the representative colors, we can combine the colors into a barcode.\n",
    "img = np.zeros((1000,len(CList),3)) is the code that creates the background. 1000 is the height, len(Clist) is the width, and 3 is the depth of the image. Therefore, the background that is created will be as long as however long the CList is, and the for loop below will add each representative color to every pixel on its corresponding x axis. For example, the first representative color(CList[0]) would be colored in the pixels within the range img[:,0], Clist[1] would be colored in the range img[:,1] etc. \n",
    "\n"
   ]
  },
  {
   "cell_type": "markdown",
   "metadata": {},
   "source": [
    "__4. Creating the Image__"
   ]
  },
  {
   "cell_type": "markdown",
   "metadata": {},
   "source": [
    "So far we have successfully created an image, but before showing the image on the screen we have to change the value of the depth of each pixel color. Cv2 reads color depths in the order of blue, green, and red, unlike most programs that read them in the order of red, green, and blue. Therefore, before we reval the barcode we have created we must change the order of the color values."
   ]
  },
  {
   "cell_type": "code",
   "execution_count": 8,
   "metadata": {},
   "outputs": [],
   "source": [
    "b, g, r = cv2.split(img)\n",
    "img2 = cv2.merge([r,g,b])\n",
    "\n",
    "img2 = img2.astype(np.uint8)\n",
    "plt.imshow(img2)\n",
    "plt.show()"
   ]
  },
  {
   "cell_type": "markdown",
   "metadata": {},
   "source": [
    "The color depths of each image can be split with the function cv2.split(img). We have added the value of blue to b, green to g, and red to r. After that, we can merge the three values in our desired order(r,g,b) by writing cv2.merge([r,g,b]). In order to distinguish the new color values from the previous one, we will name them as img2. Write plt.imshow(img2) and plt.show() to reveal the barcode on the screen.\n",
    "\n",
    "__5. Saving the Movie Barcode__"
   ]
  },
  {
   "cell_type": "code",
   "execution_count": null,
   "metadata": {},
   "outputs": [],
   "source": [
    "imageio.imwrite('MovieBarcode-MaryPoppinsReturns', img2)\n",
    "\n",
    "cv2.destroyAllWindows()"
   ]
  },
  {
   "cell_type": "markdown",
   "metadata": {},
   "source": [
    "In order to save the movie barcode you have finished, write the code above with whichever file name you want it to be saved as. After saving, terminate the cv2 tool by writing cv2.destroyAllWindows()"
   ]
  },
  {
   "cell_type": "markdown",
   "metadata": {},
   "source": [
    "Overall, this seems to be a relatively simple way of creating an image with basic tools and simple loops. It seems as it would be an apt exercise for people who are trying to test their basic Python skills. However, there are limits to this code such as the fact that it can only choose the representative color of each frame in a rather crude way, and that computers that don't have enough memory might not be able to run the code."
   ]
  }
 ],
 "metadata": {
  "kernelspec": {
   "display_name": "Python 3",
   "language": "python",
   "name": "python3"
  },
  "language_info": {
   "codemirror_mode": {
    "name": "ipython",
    "version": 3
   },
   "file_extension": ".py",
   "mimetype": "text/x-python",
   "name": "python",
   "nbconvert_exporter": "python",
   "pygments_lexer": "ipython3",
   "version": "3.6.8"
  }
 },
 "nbformat": 4,
 "nbformat_minor": 2
}
